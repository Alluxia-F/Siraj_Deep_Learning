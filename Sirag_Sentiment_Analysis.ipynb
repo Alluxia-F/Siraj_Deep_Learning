{
 "cells": [
  {
   "cell_type": "code",
   "execution_count": 16,
   "metadata": {
    "collapsed": false,
    "deletable": true,
    "editable": true
   },
   "outputs": [],
   "source": [
    "%config IPCompleter.greedy=True\n",
    "import numpy as np\n",
    "import tflearn\n",
    "from tflearn.data_utils import to_categorical,pad_sequences\n",
    "from tflearn.datasets import imdb\n",
    "import pandas as pd"
   ]
  },
  {
   "cell_type": "code",
   "execution_count": 2,
   "metadata": {
    "collapsed": false,
    "deletable": true,
    "editable": true
   },
   "outputs": [],
   "source": [
    "# Load the data\n",
    "train,test,_=imdb.load_data(path='imdb.pkl',n_words=10000,valid_portion=0.1)"
   ]
  },
  {
   "cell_type": "code",
   "execution_count": 3,
   "metadata": {
    "collapsed": false,
    "deletable": true,
    "editable": true
   },
   "outputs": [
    {
     "name": "stdout",
     "output_type": "stream",
     "text": [
      "[17, 25, 10, 406, 26, 14, 56, 61, 62, 323, 4]\n",
      "2\n"
     ]
    }
   ],
   "source": [
    "print(train[0][0])\n",
    "print(len(test))"
   ]
  },
  {
   "cell_type": "code",
   "execution_count": 4,
   "metadata": {
    "collapsed": false,
    "deletable": true,
    "editable": true
   },
   "outputs": [
    {
     "name": "stdout",
     "output_type": "stream",
     "text": [
      "[[17, 25, 10, 406, 26, 14, 56, 61, 62, 323, 4]]\n",
      "[[70, 922, 87, 394, 25, 3, 129, 883, 53, 457, 86, 879, 87, 70, 297, 42, 41, 86, 1752, 14, 40], [2, 118, 35, 6186, 5, 2, 242, 10, 397, 4, 14, 20, 6, 456, 7, 2, 1938, 7, 1, 5, 1, 4], [4014, 4, 30, 63, 32, 68, 112, 14, 508, 2, 101, 313, 246, 4, 5, 17, 10, 605, 47, 6, 666, 1749, 2783, 350, 40, 40, 360], [100, 25, 87, 277, 2, 241, 87, 1, 581, 87, 19, 42, 247, 19, 4, 17, 2444, 9001, 65, 30, 37, 427, 270, 18, 330, 290, 4], [6, 25, 134, 7844, 72, 44, 2, 151, 132, 6, 1341, 1, 1, 44, 3691, 61, 351, 1618, 20, 9607, 58, 47, 506, 52, 1, 4, 113, 406, 23, 717, 4]]\n"
     ]
    }
   ],
   "source": [
    "trainX,trainY=train\n",
    "testX,testY=test\n",
    "print(trainX[:1])\n",
    "print(testX[:5])\n"
   ]
  },
  {
   "cell_type": "code",
   "execution_count": 32,
   "metadata": {
    "collapsed": false,
    "deletable": true,
    "editable": true
   },
   "outputs": [
    {
     "name": "stdout",
     "output_type": "stream",
     "text": [
      "2500\n"
     ]
    }
   ],
   "source": [
    "# Preprocess the data\n",
    "\n",
    "trainX=pad_sequences(trainX,maxlen=100,value=0.)\n",
    "testX=pad_sequences(testX,maxlen=100,value=0.)\n",
    "print(len(testX))"
   ]
  },
  {
   "cell_type": "code",
   "execution_count": 6,
   "metadata": {
    "collapsed": false,
    "deletable": true,
    "editable": true
   },
   "outputs": [
    {
     "name": "stdout",
     "output_type": "stream",
     "text": [
      "[0, 0, 0, 1, 0]\n",
      "[0, 0, 0, 0, 0]\n",
      "<class 'numpy.ndarray'>\n",
      "[[ 1.  0.]\n",
      " [ 1.  0.]\n",
      " [ 1.  0.]\n",
      " [ 0.  1.]\n",
      " [ 1.  0.]]\n",
      "[[ 1.  0.]\n",
      " [ 1.  0.]\n",
      " [ 1.  0.]\n",
      " [ 1.  0.]\n",
      " [ 1.  0.]]\n"
     ]
    }
   ],
   "source": [
    "# Converting labels to binary vectors\n",
    "print(trainY[:5])\n",
    "print(testY[:5])\n",
    "trainY=to_categorical(trainY,nb_classes=2)\n",
    "print(type(trainY))\n",
    "print(trainY[:5])\n",
    "testY=to_categorical(testY,nb_classes=2)\n",
    "print(testY[:5])"
   ]
  },
  {
   "cell_type": "code",
   "execution_count": 7,
   "metadata": {
    "collapsed": false,
    "deletable": true,
    "editable": true
   },
   "outputs": [],
   "source": [
    "# Networking build\n",
    "\n",
    "# Input layer\n",
    "net=tflearn.input_data([None,100])\n",
    "# Embedding layer\n",
    "net=tflearn.embedding(net,input_dim=10000,output_dim=128)\n",
    "net=tflearn.lstm(net,128,dropout=0.75)\n",
    "net=tflearn.fully_connected(net,128,activation='ReLU')\n",
    "net=tflearn.dropout(net,0.75)\n",
    "net=tflearn.fully_connected(net,2,activation='softmax')\n",
    "net=tflearn.regression(net,optimizer='adam',learning_rate=0.0001,loss='categorical_crossentropy')\n",
    "\n",
    "model=tflearn.DNN(net,tensorboard_verbose=0)\n"
   ]
  },
  {
   "cell_type": "code",
   "execution_count": 8,
   "metadata": {
    "collapsed": false,
    "deletable": true,
    "editable": true
   },
   "outputs": [
    {
     "name": "stdout",
     "output_type": "stream",
     "text": [
      "Training Step: 5629  | total loss: \u001b[1m\u001b[32m0.16720\u001b[0m\u001b[0m | time: 53.659s\n",
      "| Adam | epoch: 010 | loss: 0.16720 - acc: 0.9516 -- iter: 17984/18000\n",
      "Training Step: 5630  | total loss: \u001b[1m\u001b[32m0.15361\u001b[0m\u001b[0m | time: 57.026s\n",
      "| Adam | epoch: 010 | loss: 0.15361 - acc: 0.9565 | val_loss: 0.67178 - val_acc: 0.7884 -- iter: 18000/18000\n",
      "--\n"
     ]
    }
   ],
   "source": [
    "# Training\n",
    "model.fit(trainX,trainY,validation_set=0.2,show_metric=True,batch_size=32,n_epoch=10)"
   ]
  },
  {
   "cell_type": "code",
   "execution_count": 39,
   "metadata": {
    "collapsed": false,
    "deletable": true,
    "editable": true
   },
   "outputs": [
    {
     "name": "stdout",
     "output_type": "stream",
     "text": [
      "Test Accuracy: 0.7976\n"
     ]
    }
   ],
   "source": [
    "predictions=model.predict(testX)\n",
    "predictions=(np.array(predictions)[:,0]>=0.5).astype(np.int_)\n",
    "test_accuracy=np.mean(predictions==testY[:,0],axis=0)\n",
    "print('Test Accuracy:',test_accuracy)"
   ]
  },
  {
   "cell_type": "code",
   "execution_count": null,
   "metadata": {
    "collapsed": false,
    "deletable": true,
    "editable": true
   },
   "outputs": [],
   "source": [
    "\n",
    "    "
   ]
  },
  {
   "cell_type": "code",
   "execution_count": null,
   "metadata": {
    "collapsed": true
   },
   "outputs": [],
   "source": []
  }
 ],
 "metadata": {
  "kernelspec": {
   "display_name": "Python 3",
   "language": "python",
   "name": "python3"
  },
  "language_info": {
   "codemirror_mode": {
    "name": "ipython",
    "version": 3
   },
   "file_extension": ".py",
   "mimetype": "text/x-python",
   "name": "python",
   "nbconvert_exporter": "python",
   "pygments_lexer": "ipython3",
   "version": "3.5.2"
  },
  "widgets": {
   "state": {},
   "version": "1.1.2"
  }
 },
 "nbformat": 4,
 "nbformat_minor": 2
}
