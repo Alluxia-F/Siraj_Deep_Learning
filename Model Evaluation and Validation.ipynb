{
 "cells": [
  {
   "cell_type": "code",
   "execution_count": 39,
   "metadata": {
    "collapsed": true
   },
   "outputs": [],
   "source": [
    "import pandas as pd\n",
    "import numpy as np\n",
    "from sklearn.model_selection import train_test_split\n",
    "%config IPCompleter.greedy=True\n"
   ]
  },
  {
   "cell_type": "code",
   "execution_count": 40,
   "metadata": {},
   "outputs": [
    {
     "name": "stdout",
     "output_type": "stream",
     "text": [
      "   admit  gre   gpa  rank\n",
      "0      0  380  3.61     3\n",
      "1      1  660  3.67     3\n",
      "2      1  800  4.00     1\n",
      "3      1  640  3.19     4\n",
      "4      0  520  2.93     4\n",
      "\n",
      "Number of records in admission file: 400\n"
     ]
    }
   ],
   "source": [
    "admissions=pd.read_csv('binary.csv')\n",
    "print admissions.head(5)\n",
    "print\n",
    "print 'Number of records in admission file: '+str(len(admissions))"
   ]
  },
  {
   "cell_type": "code",
   "execution_count": 41,
   "metadata": {},
   "outputs": [
    {
     "name": "stdout",
     "output_type": "stream",
     "text": [
      "   gre   gpa  rank_1  rank_2  rank_3  rank_4\n",
      "0  380  3.61       0       0       1       0\n",
      "1  660  3.67       0       0       1       0\n",
      "2  800  4.00       1       0       0       0\n",
      "3  640  3.19       0       0       0       1\n",
      "4  520  2.93       0       0       0       1\n",
      "\n",
      "0    0\n",
      "1    1\n",
      "2    1\n",
      "3    1\n",
      "4    0\n",
      "Name: admit, dtype: int64\n"
     ]
    }
   ],
   "source": [
    "X=pd.concat([admissions,pd.get_dummies(admissions['rank'],prefix='rank')],axis=1)\n",
    "X=X.drop('rank',axis=1)\n",
    "X=X.drop('admit',axis=1)\n",
    "y=admissions['admit']\n",
    "\n",
    "print X.head(5)\n",
    "print\n",
    "print y.head(5)"
   ]
  },
  {
   "cell_type": "code",
   "execution_count": 46,
   "metadata": {},
   "outputs": [
    {
     "name": "stdout",
     "output_type": "stream",
     "text": [
      "Size of the training data:300\n",
      "Size of the test data:100\n"
     ]
    }
   ],
   "source": [
    "X_train,X_test,y_train,y_test=train_test_split(X,y,test_size=0.25)\n",
    "print 'Size of the training data:'+str(len(X_train))\n",
    "print 'Size of the test data:'+str(len(X_test))"
   ]
  },
  {
   "cell_type": "code",
   "execution_count": 49,
   "metadata": {},
   "outputs": [
    {
     "data": {
      "text/plain": [
       "0.90357142857142858"
      ]
     },
     "execution_count": 49,
     "metadata": {},
     "output_type": "execute_result"
    }
   ],
   "source": [
    "# R2 score example\n",
    "\n",
    "from sklearn.metrics import r2_score\n",
    "\n",
    "y_true=[1,2,4]\n",
    "y_pred=[1.2,2.4,3.5]\n",
    "\n",
    "r2_score(y_true,y_pred)"
   ]
  },
  {
   "cell_type": "code",
   "execution_count": null,
   "metadata": {
    "collapsed": true
   },
   "outputs": [],
   "source": []
  }
 ],
 "metadata": {
  "kernelspec": {
   "display_name": "Python [conda root]",
   "language": "python",
   "name": "conda-root-py"
  },
  "language_info": {
   "codemirror_mode": {
    "name": "ipython",
    "version": 2
   },
   "file_extension": ".py",
   "mimetype": "text/x-python",
   "name": "python",
   "nbconvert_exporter": "python",
   "pygments_lexer": "ipython2",
   "version": "2.7.13"
  }
 },
 "nbformat": 4,
 "nbformat_minor": 2
}
