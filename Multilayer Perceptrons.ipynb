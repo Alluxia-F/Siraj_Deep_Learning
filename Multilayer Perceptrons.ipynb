{
 "cells": [
  {
   "cell_type": "code",
   "execution_count": 21,
   "metadata": {
    "collapsed": true
   },
   "outputs": [],
   "source": [
    "import numpy as np\n",
    "np.random.seed(42)"
   ]
  },
  {
   "cell_type": "code",
   "execution_count": 22,
   "metadata": {
    "collapsed": true
   },
   "outputs": [],
   "source": [
    "def sigmoid(x):\n",
    "    return 1/(1+np.exp(-x))\n"
   ]
  },
  {
   "cell_type": "code",
   "execution_count": 23,
   "metadata": {
    "collapsed": true
   },
   "outputs": [],
   "source": [
    "# Network size\n",
    "N_input=4\n",
    "N_hidden=3\n",
    "N_output=2\n"
   ]
  },
  {
   "cell_type": "code",
   "execution_count": 24,
   "metadata": {},
   "outputs": [
    {
     "name": "stdout",
     "output_type": "stream",
     "text": [
      "(4,)\n",
      "\n",
      "[[-0.02341534 -0.0234137   0.15792128]\n",
      " [ 0.07674347 -0.04694744  0.054256  ]\n",
      " [-0.04634177 -0.04657298  0.02419623]\n",
      " [-0.19132802 -0.17249178 -0.05622875]]\n",
      "\n",
      "[[-0.10128311  0.03142473]\n",
      " [-0.09080241 -0.14123037]\n",
      " [ 0.14656488 -0.02257763]]\n"
     ]
    }
   ],
   "source": [
    "# Make some fake data\n",
    "X=np.random.randn(N_input)\n",
    "print X.shape\n",
    "print\n",
    "weights_input_to_hidden=np.random.normal(0,scale=0.1,size=(N_input,N_hidden))\n",
    "print weights_input_to_hidden\n",
    "print \n",
    "weights_hidden_to_output=np.random.normal(0,scale=0.1,size=(N_hidden,N_output))\n",
    "print weights_hidden_to_output"
   ]
  },
  {
   "cell_type": "code",
   "execution_count": 25,
   "metadata": {},
   "outputs": [
    {
     "name": "stdout",
     "output_type": "stream",
     "text": [
      "(3,)\n",
      "[ 0.49815196  0.48539772]\n"
     ]
    }
   ],
   "source": [
    "# Make a forward pass through the network\n",
    "hidden_layer_in=X.dot(weights_input_to_hidden)\n",
    "hidden_layer_out=sigmoid(hidden_layer_in)\n",
    "print hidden_layer_out.shape\n",
    "\n",
    "output_layer_in=hidden_layer_out.dot(weights_hidden_to_output)\n",
    "output_layer_out=sigmoid(output_layer_in)\n",
    "print output_layer_out"
   ]
  },
  {
   "cell_type": "code",
   "execution_count": null,
   "metadata": {
    "collapsed": true
   },
   "outputs": [],
   "source": []
  }
 ],
 "metadata": {
  "kernelspec": {
   "display_name": "Python [conda root]",
   "language": "python",
   "name": "conda-root-py"
  },
  "language_info": {
   "codemirror_mode": {
    "name": "ipython",
    "version": 2
   },
   "file_extension": ".py",
   "mimetype": "text/x-python",
   "name": "python",
   "nbconvert_exporter": "python",
   "pygments_lexer": "ipython2",
   "version": "2.7.13"
  }
 },
 "nbformat": 4,
 "nbformat_minor": 2
}
