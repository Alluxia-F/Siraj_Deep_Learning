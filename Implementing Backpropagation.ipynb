{
 "cells": [
  {
   "cell_type": "markdown",
   "metadata": {},
   "source": [
    "STEP 1: Preprocess Data"
   ]
  },
  {
   "cell_type": "code",
   "execution_count": 62,
   "metadata": {
    "collapsed": true
   },
   "outputs": [],
   "source": [
    "import pandas as pd\n",
    "import numpy as np\n",
    "np.random.seed(42)\n",
    "%config IPCompleter.greedy=True"
   ]
  },
  {
   "cell_type": "code",
   "execution_count": 63,
   "metadata": {},
   "outputs": [
    {
     "name": "stdout",
     "output_type": "stream",
     "text": [
      "   admit  gre   gpa  rank\n",
      "0      0  380  3.61     3\n",
      "1      1  660  3.67     3\n",
      "2      1  800  4.00     1\n",
      "3      1  640  3.19     4\n",
      "4      0  520  2.93     4\n",
      "\n",
      " The length of the file:400\n"
     ]
    }
   ],
   "source": [
    "admissions=pd.read_csv('binary.csv')\n",
    "print admissions.head()\n",
    "print '\\n The length of the file:'+str(len(admissions))"
   ]
  },
  {
   "cell_type": "code",
   "execution_count": 64,
   "metadata": {},
   "outputs": [
    {
     "data": {
      "text/html": [
       "<div>\n",
       "<style>\n",
       "    .dataframe thead tr:only-child th {\n",
       "        text-align: right;\n",
       "    }\n",
       "\n",
       "    .dataframe thead th {\n",
       "        text-align: left;\n",
       "    }\n",
       "\n",
       "    .dataframe tbody tr th {\n",
       "        vertical-align: top;\n",
       "    }\n",
       "</style>\n",
       "<table border=\"1\" class=\"dataframe\">\n",
       "  <thead>\n",
       "    <tr style=\"text-align: right;\">\n",
       "      <th></th>\n",
       "      <th>admit</th>\n",
       "      <th>gre</th>\n",
       "      <th>gpa</th>\n",
       "      <th>rank_1</th>\n",
       "      <th>rank_2</th>\n",
       "      <th>rank_3</th>\n",
       "      <th>rank_4</th>\n",
       "    </tr>\n",
       "  </thead>\n",
       "  <tbody>\n",
       "    <tr>\n",
       "      <th>0</th>\n",
       "      <td>0</td>\n",
       "      <td>380</td>\n",
       "      <td>3.61</td>\n",
       "      <td>0</td>\n",
       "      <td>0</td>\n",
       "      <td>1</td>\n",
       "      <td>0</td>\n",
       "    </tr>\n",
       "    <tr>\n",
       "      <th>1</th>\n",
       "      <td>1</td>\n",
       "      <td>660</td>\n",
       "      <td>3.67</td>\n",
       "      <td>0</td>\n",
       "      <td>0</td>\n",
       "      <td>1</td>\n",
       "      <td>0</td>\n",
       "    </tr>\n",
       "    <tr>\n",
       "      <th>2</th>\n",
       "      <td>1</td>\n",
       "      <td>800</td>\n",
       "      <td>4.00</td>\n",
       "      <td>1</td>\n",
       "      <td>0</td>\n",
       "      <td>0</td>\n",
       "      <td>0</td>\n",
       "    </tr>\n",
       "    <tr>\n",
       "      <th>3</th>\n",
       "      <td>1</td>\n",
       "      <td>640</td>\n",
       "      <td>3.19</td>\n",
       "      <td>0</td>\n",
       "      <td>0</td>\n",
       "      <td>0</td>\n",
       "      <td>1</td>\n",
       "    </tr>\n",
       "    <tr>\n",
       "      <th>4</th>\n",
       "      <td>0</td>\n",
       "      <td>520</td>\n",
       "      <td>2.93</td>\n",
       "      <td>0</td>\n",
       "      <td>0</td>\n",
       "      <td>0</td>\n",
       "      <td>1</td>\n",
       "    </tr>\n",
       "  </tbody>\n",
       "</table>\n",
       "</div>"
      ],
      "text/plain": [
       "   admit  gre   gpa  rank_1  rank_2  rank_3  rank_4\n",
       "0      0  380  3.61       0       0       1       0\n",
       "1      1  660  3.67       0       0       1       0\n",
       "2      1  800  4.00       1       0       0       0\n",
       "3      1  640  3.19       0       0       0       1\n",
       "4      0  520  2.93       0       0       0       1"
      ]
     },
     "execution_count": 64,
     "metadata": {},
     "output_type": "execute_result"
    }
   ],
   "source": [
    "data=pd.concat([admissions,pd.get_dummies(admissions['rank'],prefix='rank')],axis=1)\n",
    "data=data.drop(['rank'],axis=1)\n",
    "data.head(5)"
   ]
  },
  {
   "cell_type": "code",
   "execution_count": 65,
   "metadata": {},
   "outputs": [
    {
     "data": {
      "text/html": [
       "<div>\n",
       "<style>\n",
       "    .dataframe thead tr:only-child th {\n",
       "        text-align: right;\n",
       "    }\n",
       "\n",
       "    .dataframe thead th {\n",
       "        text-align: left;\n",
       "    }\n",
       "\n",
       "    .dataframe tbody tr th {\n",
       "        vertical-align: top;\n",
       "    }\n",
       "</style>\n",
       "<table border=\"1\" class=\"dataframe\">\n",
       "  <thead>\n",
       "    <tr style=\"text-align: right;\">\n",
       "      <th></th>\n",
       "      <th>admit</th>\n",
       "      <th>gre</th>\n",
       "      <th>gpa</th>\n",
       "      <th>rank_1</th>\n",
       "      <th>rank_2</th>\n",
       "      <th>rank_3</th>\n",
       "      <th>rank_4</th>\n",
       "    </tr>\n",
       "  </thead>\n",
       "  <tbody>\n",
       "    <tr>\n",
       "      <th>0</th>\n",
       "      <td>0</td>\n",
       "      <td>-1.798011</td>\n",
       "      <td>0.578348</td>\n",
       "      <td>0</td>\n",
       "      <td>0</td>\n",
       "      <td>1</td>\n",
       "      <td>0</td>\n",
       "    </tr>\n",
       "    <tr>\n",
       "      <th>1</th>\n",
       "      <td>1</td>\n",
       "      <td>0.625884</td>\n",
       "      <td>0.736008</td>\n",
       "      <td>0</td>\n",
       "      <td>0</td>\n",
       "      <td>1</td>\n",
       "      <td>0</td>\n",
       "    </tr>\n",
       "    <tr>\n",
       "      <th>2</th>\n",
       "      <td>1</td>\n",
       "      <td>1.837832</td>\n",
       "      <td>1.603135</td>\n",
       "      <td>1</td>\n",
       "      <td>0</td>\n",
       "      <td>0</td>\n",
       "      <td>0</td>\n",
       "    </tr>\n",
       "    <tr>\n",
       "      <th>3</th>\n",
       "      <td>1</td>\n",
       "      <td>0.452749</td>\n",
       "      <td>-0.525269</td>\n",
       "      <td>0</td>\n",
       "      <td>0</td>\n",
       "      <td>0</td>\n",
       "      <td>1</td>\n",
       "    </tr>\n",
       "    <tr>\n",
       "      <th>4</th>\n",
       "      <td>0</td>\n",
       "      <td>-0.586063</td>\n",
       "      <td>-1.208461</td>\n",
       "      <td>0</td>\n",
       "      <td>0</td>\n",
       "      <td>0</td>\n",
       "      <td>1</td>\n",
       "    </tr>\n",
       "    <tr>\n",
       "      <th>5</th>\n",
       "      <td>1</td>\n",
       "      <td>1.491561</td>\n",
       "      <td>-1.024525</td>\n",
       "      <td>0</td>\n",
       "      <td>1</td>\n",
       "      <td>0</td>\n",
       "      <td>0</td>\n",
       "    </tr>\n",
       "    <tr>\n",
       "      <th>6</th>\n",
       "      <td>1</td>\n",
       "      <td>-0.239793</td>\n",
       "      <td>-1.077078</td>\n",
       "      <td>1</td>\n",
       "      <td>0</td>\n",
       "      <td>0</td>\n",
       "      <td>0</td>\n",
       "    </tr>\n",
       "    <tr>\n",
       "      <th>7</th>\n",
       "      <td>0</td>\n",
       "      <td>-1.624876</td>\n",
       "      <td>-0.814312</td>\n",
       "      <td>0</td>\n",
       "      <td>1</td>\n",
       "      <td>0</td>\n",
       "      <td>0</td>\n",
       "    </tr>\n",
       "    <tr>\n",
       "      <th>8</th>\n",
       "      <td>1</td>\n",
       "      <td>-0.412928</td>\n",
       "      <td>0.000263</td>\n",
       "      <td>0</td>\n",
       "      <td>0</td>\n",
       "      <td>1</td>\n",
       "      <td>0</td>\n",
       "    </tr>\n",
       "    <tr>\n",
       "      <th>9</th>\n",
       "      <td>0</td>\n",
       "      <td>0.972155</td>\n",
       "      <td>1.392922</td>\n",
       "      <td>0</td>\n",
       "      <td>1</td>\n",
       "      <td>0</td>\n",
       "      <td>0</td>\n",
       "    </tr>\n",
       "    <tr>\n",
       "      <th>10</th>\n",
       "      <td>0</td>\n",
       "      <td>1.837832</td>\n",
       "      <td>1.603135</td>\n",
       "      <td>0</td>\n",
       "      <td>0</td>\n",
       "      <td>0</td>\n",
       "      <td>1</td>\n",
       "    </tr>\n",
       "    <tr>\n",
       "      <th>11</th>\n",
       "      <td>0</td>\n",
       "      <td>-1.278605</td>\n",
       "      <td>-0.446439</td>\n",
       "      <td>1</td>\n",
       "      <td>0</td>\n",
       "      <td>0</td>\n",
       "      <td>0</td>\n",
       "    </tr>\n",
       "    <tr>\n",
       "      <th>12</th>\n",
       "      <td>1</td>\n",
       "      <td>1.491561</td>\n",
       "      <td>1.603135</td>\n",
       "      <td>1</td>\n",
       "      <td>0</td>\n",
       "      <td>0</td>\n",
       "      <td>0</td>\n",
       "    </tr>\n",
       "    <tr>\n",
       "      <th>13</th>\n",
       "      <td>0</td>\n",
       "      <td>0.972155</td>\n",
       "      <td>-0.814312</td>\n",
       "      <td>0</td>\n",
       "      <td>1</td>\n",
       "      <td>0</td>\n",
       "      <td>0</td>\n",
       "    </tr>\n",
       "    <tr>\n",
       "      <th>14</th>\n",
       "      <td>1</td>\n",
       "      <td>0.972155</td>\n",
       "      <td>1.603135</td>\n",
       "      <td>1</td>\n",
       "      <td>0</td>\n",
       "      <td>0</td>\n",
       "      <td>0</td>\n",
       "    </tr>\n",
       "    <tr>\n",
       "      <th>15</th>\n",
       "      <td>0</td>\n",
       "      <td>-0.932334</td>\n",
       "      <td>0.131646</td>\n",
       "      <td>0</td>\n",
       "      <td>0</td>\n",
       "      <td>1</td>\n",
       "      <td>0</td>\n",
       "    </tr>\n",
       "  </tbody>\n",
       "</table>\n",
       "</div>"
      ],
      "text/plain": [
       "    admit       gre       gpa  rank_1  rank_2  rank_3  rank_4\n",
       "0       0 -1.798011  0.578348       0       0       1       0\n",
       "1       1  0.625884  0.736008       0       0       1       0\n",
       "2       1  1.837832  1.603135       1       0       0       0\n",
       "3       1  0.452749 -0.525269       0       0       0       1\n",
       "4       0 -0.586063 -1.208461       0       0       0       1\n",
       "5       1  1.491561 -1.024525       0       1       0       0\n",
       "6       1 -0.239793 -1.077078       1       0       0       0\n",
       "7       0 -1.624876 -0.814312       0       1       0       0\n",
       "8       1 -0.412928  0.000263       0       0       1       0\n",
       "9       0  0.972155  1.392922       0       1       0       0\n",
       "10      0  1.837832  1.603135       0       0       0       1\n",
       "11      0 -1.278605 -0.446439       1       0       0       0\n",
       "12      1  1.491561  1.603135       1       0       0       0\n",
       "13      0  0.972155 -0.814312       0       1       0       0\n",
       "14      1  0.972155  1.603135       1       0       0       0\n",
       "15      0 -0.932334  0.131646       0       0       1       0"
      ]
     },
     "execution_count": 65,
     "metadata": {},
     "output_type": "execute_result"
    }
   ],
   "source": [
    "# Standarize features\n",
    "for field in ['gre','gpa']:\n",
    "    mean,std=data[field].mean(),data[field].std()\n",
    "    data[field]=(data[field]-mean)/std\n",
    "data.head(16)"
   ]
  },
  {
   "cell_type": "code",
   "execution_count": 66,
   "metadata": {},
   "outputs": [
    {
     "name": "stdout",
     "output_type": "stream",
     "text": [
      "     admit       gre       gpa  rank_1  rank_2  rank_3  rank_4\n",
      "209      0 -0.066657  0.289305       0       1       0       0\n",
      "280      0  0.625884  1.445476       0       1       0       0\n",
      "33       1  1.837832  1.603135       0       0       1       0\n",
      "210      0  1.318426 -0.131120       0       0       0       1\n",
      "93       0 -0.066657 -1.208461       0       1       0       0\n",
      "\n",
      " The length of the data is:360\n",
      "\n",
      "    admit       gre       gpa  rank_1  rank_2  rank_3  rank_4\n",
      "20      0 -0.759199 -0.577822       0       0       1       0\n",
      "21      1  0.625884  0.630901       0       1       0       0\n",
      "48      0 -1.278605 -2.390908       0       0       0       1\n",
      "50      0  0.452749  1.235263       0       0       1       0\n",
      "54      0  0.625884 -0.131120       0       0       1       0\n",
      "\n",
      " The length of the test data is:40\n"
     ]
    }
   ],
   "source": [
    "# Split off random 10% of the data for testing\n",
    "\n",
    "sample=np.random.choice(data.index,size=int(len(data)*0.9),replace=False)\n",
    "data,test_data=data.loc[sample],data.drop(sample)\n",
    "print data.head()\n",
    "print '\\n The length of the data is:'+str(len(data))\n",
    "print\n",
    "print test_data.head()\n",
    "print '\\n The length of the test data is:'+str(len(test_data))\n",
    "\n"
   ]
  },
  {
   "cell_type": "code",
   "execution_count": 67,
   "metadata": {},
   "outputs": [
    {
     "name": "stdout",
     "output_type": "stream",
     "text": [
      "          gre       gpa  rank_1  rank_2  rank_3  rank_4\n",
      "209 -0.066657  0.289305       0       1       0       0\n",
      "280  0.625884  1.445476       0       1       0       0\n",
      "33   1.837832  1.603135       0       0       1       0\n",
      "210  1.318426 -0.131120       0       0       0       1\n",
      "93  -0.066657 -1.208461       0       1       0       0\n",
      "\n",
      "20    0\n",
      "21    1\n",
      "48    0\n",
      "50    0\n",
      "54    0\n",
      "Name: admit, dtype: int64\n"
     ]
    }
   ],
   "source": [
    "# Split into features and targets\n",
    "features,targets=data.drop('admit',axis=1),data['admit']\n",
    "features_test,targets_test=test_data.drop('admit',axis=1),test_data['admit']\n",
    "print features.head()\n",
    "print\n",
    "print targets_test.head()"
   ]
  },
  {
   "cell_type": "code",
   "execution_count": 68,
   "metadata": {
    "collapsed": true
   },
   "outputs": [],
   "source": [
    "def sigmoid(x):\n",
    "    return 1/(1+np.exp(-x))"
   ]
  },
  {
   "cell_type": "code",
   "execution_count": 69,
   "metadata": {},
   "outputs": [
    {
     "name": "stdout",
     "output_type": "stream",
     "text": [
      "360 6\n"
     ]
    }
   ],
   "source": [
    "n_records,n_features=features.shape\n",
    "print n_records,n_features"
   ]
  },
  {
   "cell_type": "code",
   "execution_count": 70,
   "metadata": {
    "collapsed": true
   },
   "outputs": [],
   "source": [
    "epochs=500\n",
    "n_hidden=3\n",
    "learnrate=0.5\n",
    "last_loss=None\n"
   ]
  },
  {
   "cell_type": "code",
   "execution_count": 71,
   "metadata": {},
   "outputs": [
    {
     "name": "stdout",
     "output_type": "stream",
     "text": [
      "[[-0.22097886  0.31713666 -0.01945046]\n",
      " [ 0.21175613 -0.15978912  0.17882198]\n",
      " [ 0.67923117 -0.30179201 -0.04376196]\n",
      " [-0.19849738  0.65033209 -0.17715592]\n",
      " [-0.29912034 -0.23608056 -0.05540639]\n",
      " [-0.32394707 -0.15041908  0.06417739]]\n",
      "\n",
      "[-0.04714182  0.3395436  -0.13037616]\n"
     ]
    }
   ],
   "source": [
    "weights_input_hidden=np.random.normal(scale=1/n_features**0.5,size=(n_features,n_hidden))                        \n",
    "print weights_input_hidden\n",
    "print\n",
    "weights_hidden_output=np.random.normal(scale=1/n_features**0.5,size=n_hidden)\n",
    "print weights_hidden_output\n"
   ]
  },
  {
   "cell_type": "code",
   "execution_count": 72,
   "metadata": {},
   "outputs": [
    {
     "name": "stdout",
     "output_type": "stream",
     "text": [
      "Train loss: 0.256674708747\n",
      "Train loss: 0.22568565922\n",
      "Train loss: 0.220649798035\n",
      "Train loss: 0.218306306495\n",
      "Train loss: 0.216481363944\n",
      "Train loss: 0.21491297116\n",
      "Train loss: 0.213549856347\n",
      "Train loss: 0.212362704022\n",
      "Train loss: 0.211324214926\n",
      "Train loss: 0.21040917765\n"
     ]
    }
   ],
   "source": [
    "for e in xrange(epochs):\n",
    "    del_w_input_hidden=np.zeros(weights_input_hidden.shape)\n",
    "    del_w_hidden_output=np.zeros(weights_hidden_output.shape)\n",
    "    for x,y in zip(features.values,targets):\n",
    "        hidden_input=x.dot(weights_input_hidden)\n",
    "        hidden_output=sigmoid(hidden_input)\n",
    "        output=sigmoid(hidden_output.dot(weights_hidden_output))\n",
    "        # Calculate the network's prediction error\n",
    "        error=y-output\n",
    "        # Calculate error delta for the output unit\n",
    "        output_error_term=error*output*(1-output)\n",
    "        \n",
    "        # propagate errors to hidden layer\n",
    "        # Calculate the hidden layer's contribution to the error\n",
    "        hidden_error=np.dot(output_error_term,weights_hidden_output)\n",
    "        # Calculate the error delta for the hidden layer\n",
    "        hidden_error_term=hidden_error*hidden_output*(1-hidden_output)\n",
    "        \n",
    "        # Update the change in weights\n",
    "        del_w_hidden_output+=output_error_term*hidden_output\n",
    "        del_w_input_hidden+=hidden_error_term*x[:,None]\n",
    "    # Update weights\n",
    "    weights_input_hidden+=learnrate*del_w_input_hidden/(n_records)\n",
    "    weights_hidden_output+=learnrate*del_w_hidden_output/(n_records)\n",
    "    if e%(epochs/10)==0:\n",
    "        hidden_output=sigmoid(np.dot(features,weights_input_hidden))\n",
    "        out=sigmoid(np.dot(hidden_output,weights_hidden_output))\n",
    "        loss=np.mean((out-targets)**2)\n",
    "        if last_loss and last_loss<loss:\n",
    "            print 'Train loss:',loss,'Warning -Loss Increading'\n",
    "        else:\n",
    "            print 'Train loss:', loss\n",
    "        last_loss=loss\n",
    "        \n",
    "        \n",
    "        "
   ]
  },
  {
   "cell_type": "code",
   "execution_count": 73,
   "metadata": {},
   "outputs": [
    {
     "name": "stdout",
     "output_type": "stream",
     "text": [
      "Prediction accuracy:0.750\n"
     ]
    }
   ],
   "source": [
    "# Calculate accuracy on test data\n",
    "hidden=sigmoid(np.dot(features_test,weights_input_hidden))\n",
    "out=sigmoid(np.dot(hidden,weights_hidden_output))\n",
    "predictions=out>0.5\n",
    "accuracy=np.mean(predictions==targets_test)\n",
    "print 'Prediction accuracy:{:.3f}'.format(accuracy)"
   ]
  },
  {
   "cell_type": "code",
   "execution_count": null,
   "metadata": {
    "collapsed": true
   },
   "outputs": [],
   "source": []
  }
 ],
 "metadata": {
  "kernelspec": {
   "display_name": "Python [conda root]",
   "language": "python",
   "name": "conda-root-py"
  },
  "language_info": {
   "codemirror_mode": {
    "name": "ipython",
    "version": 2
   },
   "file_extension": ".py",
   "mimetype": "text/x-python",
   "name": "python",
   "nbconvert_exporter": "python",
   "pygments_lexer": "ipython2",
   "version": "2.7.13"
  }
 },
 "nbformat": 4,
 "nbformat_minor": 2
}
