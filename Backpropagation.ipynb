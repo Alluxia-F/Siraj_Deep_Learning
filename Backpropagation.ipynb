{
 "cells": [
  {
   "cell_type": "code",
   "execution_count": 57,
   "metadata": {},
   "outputs": [],
   "source": [
    "import numpy as np\n",
    "np.random.seed(42)\n",
    "%config IPCompleter.greedy=True"
   ]
  },
  {
   "cell_type": "code",
   "execution_count": 58,
   "metadata": {
    "collapsed": true
   },
   "outputs": [],
   "source": [
    "def sigmoid(x):\n",
    "    return 1/(1+np.exp(-x))"
   ]
  },
  {
   "cell_type": "code",
   "execution_count": 59,
   "metadata": {},
   "outputs": [],
   "source": [
    "x=np.array([0.5,0.1,-0.2])\n",
    "target=0.6\n",
    "learnrate=0.5\n",
    "weights_input_hidden=np.array([[0.5,-0.6],[0.1,-0.2],[0.1,0.7]])\n",
    "weights_hidden_output=np.array([0.1,-0.3])"
   ]
  },
  {
   "cell_type": "code",
   "execution_count": 60,
   "metadata": {},
   "outputs": [
    {
     "name": "stdout",
     "output_type": "stream",
     "text": [
      "0.48497343085\n"
     ]
    }
   ],
   "source": [
    "# Forward pass\n",
    "hidden_layer_input=x.dot(weights_input_hidden)\n",
    "hidden_layer_output=sigmoid(hidden_layer_input)\n",
    "\n",
    "output_layer_in=hidden_layer_output.dot(weights_hidden_output)\n",
    "output=sigmoid(output_layer_in)\n",
    "print output"
   ]
  },
  {
   "cell_type": "code",
   "execution_count": 61,
   "metadata": {},
   "outputs": [
    {
     "name": "stdout",
     "output_type": "stream",
     "text": [
      "Output Error Delta:0.0287306695435\n",
      "Hidden Layer Error Delta:[ 0.00070802 -0.00204471]\n"
     ]
    }
   ],
   "source": [
    "#Backwards pass\n",
    "# Calculate output error\n",
    "error=target-output\n",
    "output_error_term=error*output*(1-output)\n",
    "print 'Output Error Delta:'+str(output_error_term)\n",
    "\n",
    "# Calculate error delta for hidden layer\n",
    "hidden_error_term=np.dot(output_error_term,weights_hidden_output)*hidden_layer_output*(1-hidden_layer_output)\n",
    "print 'Hidden Layer Error Delta:'+str(hidden_error_term)\n"
   ]
  },
  {
   "cell_type": "code",
   "execution_count": 62,
   "metadata": {},
   "outputs": [
    {
     "name": "stdout",
     "output_type": "stream",
     "text": [
      "[ 0.00804047  0.00555918]\n"
     ]
    }
   ],
   "source": [
    "# Calculate change in weights for hidden layer to output layer\n",
    "delta_w_h_o=learnrate*output_error_term*hidden_layer_output\n",
    "print delta_w_h_o"
   ]
  },
  {
   "cell_type": "code",
   "execution_count": 67,
   "metadata": {},
   "outputs": [
    {
     "name": "stdout",
     "output_type": "stream",
     "text": [
      "[ 0.00070802 -0.00204471]\n",
      "[[ 0.5]\n",
      " [ 0.1]\n",
      " [-0.2]]\n",
      "[[  1.77005547e-04  -5.11178506e-04]\n",
      " [  3.54011093e-05  -1.02235701e-04]\n",
      " [ -7.08022187e-05   2.04471402e-04]]\n"
     ]
    }
   ],
   "source": [
    "# Calculate change in weights for input layer to hidden layer\n",
    "print hidden_error_term\n",
    "print x[:,None]\n",
    "delta_w_i_h=learnrate*hidden_error_term*x[:,None]\n",
    "print delta_w_i_h"
   ]
  },
  {
   "cell_type": "code",
   "execution_count": null,
   "metadata": {
    "collapsed": true
   },
   "outputs": [],
   "source": []
  }
 ],
 "metadata": {
  "kernelspec": {
   "display_name": "Python [conda root]",
   "language": "python",
   "name": "conda-root-py"
  },
  "language_info": {
   "codemirror_mode": {
    "name": "ipython",
    "version": 2
   },
   "file_extension": ".py",
   "mimetype": "text/x-python",
   "name": "python",
   "nbconvert_exporter": "python",
   "pygments_lexer": "ipython2",
   "version": "2.7.13"
  }
 },
 "nbformat": 4,
 "nbformat_minor": 2
}
